{
  "nbformat": 4,
  "nbformat_minor": 0,
  "metadata": {
    "colab": {
      "provenance": []
    },
    "kernelspec": {
      "name": "python3",
      "display_name": "Python 3"
    },
    "language_info": {
      "name": "python"
    }
  },
  "cells": [
    {
      "cell_type": "markdown",
      "source": [
        "# Avaliando precisão e Acurácia em modelos supervisionados: Random Forest e Decision Tree\n",
        "\n",
        "\n",
        "\n"
      ],
      "metadata": {
        "id": "rqRIvXAUXCFL"
      }
    },
    {
      "cell_type": "markdown",
      "source": [
        "Este projeto tem como objetivo avaliar a acurácia e a precisão dos modelos Decision Tree e Random Forest sobre um dataset sobre Phishing e estabelecer aspectos positivos do machine learning associados a área de segurança cibernética.\n",
        "#Um breve resumo sobre o modelo de àrvore de decisão:\n",
        "\n",
        " Como as SVM, as Árvores de Decisão são algoritmos versáteis de Aprendizado de Máquina que podem executar tarefas de classificação, regressão e, até mesmo, tarefas multioutput. São algoritmos muito poderosos capazes de moldar conjuntos complexos de dados. ( Aurélien Géron, 2019, p.171).\n",
        "\n",
        "Auriélien (2019, p. 171) acrescenta a tudo isso mais um fator, As Árvores de Decisão também são os componentes fundamentais das Florestas Aleatórias (veja o Capítulo 7), que estão entre os algoritmos de Aprendizado de Máquina mais poderosos disponíveis atualmente."
      ],
      "metadata": {
        "id": "85fHBHmOnKkH"
      }
    },
    {
      "cell_type": "markdown",
      "source": [
        "##Importando as bibliotecas\n"
      ],
      "metadata": {
        "id": "P6IW6gCXqVdv"
      }
    },
    {
      "cell_type": "code",
      "execution_count": null,
      "metadata": {
        "id": "Dq-usA5CVkzn"
      },
      "outputs": [],
      "source": [
        "import pandas as pd\n",
        "from sklearn.feature_selection import SelectKBest, f_classif\n",
        "from sklearn.metrics import confusion_matrix\n",
        "from sklearn.metrics import precision_score\n",
        "from sklearn import tree\n",
        "from sklearn.tree import DecisionTreeClassifier\n",
        "from sklearn.ensemble import RandomForestClassifier\n",
        "from sklearn.metrics import accuracy_score\n",
        "from sklearn.model_selection import train_test_split\n",
        "from sklearn.datasets import make_classification\n",
        "import matplotlib.pyplot as plt\n",
        "import seaborn as sns\n",
        "\n"
      ]
    },
    {
      "cell_type": "markdown",
      "source": [
        "#importando o dataset (Base de dados)\n",
        "\n",
        "\n",
        "##Description\n",
        "These data consist of a collection of legitimate as well as phishing website instances. Each website is represented by the set of features which denote, whether website is legitimate or not. Data can serve as an input for machine learning process.\n",
        "\n",
        "Vrbančič, Grega (2020), “Phishing Websites Dataset”, Mendeley Data, V1, doi: 10.17632/72ptz43s9v.1\n",
        "\n",
        "Link : https://data.mendeley.com/datasets/72ptz43s9v/1"
      ],
      "metadata": {
        "id": "Sr-V2uLKqgBP"
      }
    },
    {
      "cell_type": "code",
      "source": [
        "#importa a base\n",
        "dataset = pd.read_csv(\"/content/drive/MyDrive/TCC-Dataset/dataset_small.csv\")"
      ],
      "metadata": {
        "id": "A1i4xOpDWSyQ"
      },
      "execution_count": null,
      "outputs": []
    },
    {
      "cell_type": "markdown",
      "source": [
        "#Visualizandoo dataset e as dimesões do dataframe"
      ],
      "metadata": {
        "id": "ztjp-JBOshaz"
      }
    },
    {
      "cell_type": "code",
      "source": [
        "\n",
        "# dimensões do df\n",
        "print(\"Dimensões do data frame:\")\n",
        "print(\"Linhas:\\t\\t{}\".format(dataset.shape[0]))\n",
        "print(\"Colunas:\\t{}\".format(dataset.shape[1]))\n",
        "#visualiza a base\n",
        "dataset.head()"
      ],
      "metadata": {
        "id": "rM1TpXYgWmXo",
        "colab": {
          "base_uri": "https://localhost:8080/",
          "height": 308
        },
        "outputId": "7f00defe-0de1-4c8f-b28c-5b445d7057c1"
      },
      "execution_count": null,
      "outputs": [
        {
          "output_type": "stream",
          "name": "stdout",
          "text": [
            "Dimensões do data frame:\n",
            "Linhas:\t\t58645\n",
            "Colunas:\t112\n"
          ]
        },
        {
          "output_type": "execute_result",
          "data": {
            "text/plain": [
              "   qty_dot_url  qty_hyphen_url  qty_underline_url  qty_slash_url  \\\n",
              "0            2               0                  0              0   \n",
              "1            4               0                  0              2   \n",
              "2            1               0                  0              1   \n",
              "3            2               0                  0              3   \n",
              "4            1               1                  0              4   \n",
              "\n",
              "   qty_questionmark_url  qty_equal_url  qty_at_url  qty_and_url  \\\n",
              "0                     0              0           0            0   \n",
              "1                     0              0           0            0   \n",
              "2                     0              0           0            0   \n",
              "3                     0              0           0            0   \n",
              "4                     0              0           0            0   \n",
              "\n",
              "   qty_exclamation_url  qty_space_url  ...  qty_ip_resolved  qty_nameservers  \\\n",
              "0                    0              0  ...                1                4   \n",
              "1                    0              0  ...                1                4   \n",
              "2                    0              0  ...                1                2   \n",
              "3                    0              0  ...                1                2   \n",
              "4                    0              0  ...                1                2   \n",
              "\n",
              "   qty_mx_servers  ttl_hostname  tls_ssl_certificate  qty_redirects  \\\n",
              "0               2          3598                    0              0   \n",
              "1               1          3977                    1              0   \n",
              "2               1         10788                    0              0   \n",
              "3               1         14339                    1              0   \n",
              "4               1           389                    1              1   \n",
              "\n",
              "   url_google_index  domain_google_index  url_shortened  phishing  \n",
              "0                 0                    0              0         0  \n",
              "1                 0                    0              0         0  \n",
              "2                 0                    0              0         0  \n",
              "3                 0                    0              0         1  \n",
              "4                 0                    0              0         1  \n",
              "\n",
              "[5 rows x 112 columns]"
            ],
            "text/html": [
              "\n",
              "  <div id=\"df-a58aedb6-f693-4556-8268-f864b003de40\" class=\"colab-df-container\">\n",
              "    <div>\n",
              "<style scoped>\n",
              "    .dataframe tbody tr th:only-of-type {\n",
              "        vertical-align: middle;\n",
              "    }\n",
              "\n",
              "    .dataframe tbody tr th {\n",
              "        vertical-align: top;\n",
              "    }\n",
              "\n",
              "    .dataframe thead th {\n",
              "        text-align: right;\n",
              "    }\n",
              "</style>\n",
              "<table border=\"1\" class=\"dataframe\">\n",
              "  <thead>\n",
              "    <tr style=\"text-align: right;\">\n",
              "      <th></th>\n",
              "      <th>qty_dot_url</th>\n",
              "      <th>qty_hyphen_url</th>\n",
              "      <th>qty_underline_url</th>\n",
              "      <th>qty_slash_url</th>\n",
              "      <th>qty_questionmark_url</th>\n",
              "      <th>qty_equal_url</th>\n",
              "      <th>qty_at_url</th>\n",
              "      <th>qty_and_url</th>\n",
              "      <th>qty_exclamation_url</th>\n",
              "      <th>qty_space_url</th>\n",
              "      <th>...</th>\n",
              "      <th>qty_ip_resolved</th>\n",
              "      <th>qty_nameservers</th>\n",
              "      <th>qty_mx_servers</th>\n",
              "      <th>ttl_hostname</th>\n",
              "      <th>tls_ssl_certificate</th>\n",
              "      <th>qty_redirects</th>\n",
              "      <th>url_google_index</th>\n",
              "      <th>domain_google_index</th>\n",
              "      <th>url_shortened</th>\n",
              "      <th>phishing</th>\n",
              "    </tr>\n",
              "  </thead>\n",
              "  <tbody>\n",
              "    <tr>\n",
              "      <th>0</th>\n",
              "      <td>2</td>\n",
              "      <td>0</td>\n",
              "      <td>0</td>\n",
              "      <td>0</td>\n",
              "      <td>0</td>\n",
              "      <td>0</td>\n",
              "      <td>0</td>\n",
              "      <td>0</td>\n",
              "      <td>0</td>\n",
              "      <td>0</td>\n",
              "      <td>...</td>\n",
              "      <td>1</td>\n",
              "      <td>4</td>\n",
              "      <td>2</td>\n",
              "      <td>3598</td>\n",
              "      <td>0</td>\n",
              "      <td>0</td>\n",
              "      <td>0</td>\n",
              "      <td>0</td>\n",
              "      <td>0</td>\n",
              "      <td>0</td>\n",
              "    </tr>\n",
              "    <tr>\n",
              "      <th>1</th>\n",
              "      <td>4</td>\n",
              "      <td>0</td>\n",
              "      <td>0</td>\n",
              "      <td>2</td>\n",
              "      <td>0</td>\n",
              "      <td>0</td>\n",
              "      <td>0</td>\n",
              "      <td>0</td>\n",
              "      <td>0</td>\n",
              "      <td>0</td>\n",
              "      <td>...</td>\n",
              "      <td>1</td>\n",
              "      <td>4</td>\n",
              "      <td>1</td>\n",
              "      <td>3977</td>\n",
              "      <td>1</td>\n",
              "      <td>0</td>\n",
              "      <td>0</td>\n",
              "      <td>0</td>\n",
              "      <td>0</td>\n",
              "      <td>0</td>\n",
              "    </tr>\n",
              "    <tr>\n",
              "      <th>2</th>\n",
              "      <td>1</td>\n",
              "      <td>0</td>\n",
              "      <td>0</td>\n",
              "      <td>1</td>\n",
              "      <td>0</td>\n",
              "      <td>0</td>\n",
              "      <td>0</td>\n",
              "      <td>0</td>\n",
              "      <td>0</td>\n",
              "      <td>0</td>\n",
              "      <td>...</td>\n",
              "      <td>1</td>\n",
              "      <td>2</td>\n",
              "      <td>1</td>\n",
              "      <td>10788</td>\n",
              "      <td>0</td>\n",
              "      <td>0</td>\n",
              "      <td>0</td>\n",
              "      <td>0</td>\n",
              "      <td>0</td>\n",
              "      <td>0</td>\n",
              "    </tr>\n",
              "    <tr>\n",
              "      <th>3</th>\n",
              "      <td>2</td>\n",
              "      <td>0</td>\n",
              "      <td>0</td>\n",
              "      <td>3</td>\n",
              "      <td>0</td>\n",
              "      <td>0</td>\n",
              "      <td>0</td>\n",
              "      <td>0</td>\n",
              "      <td>0</td>\n",
              "      <td>0</td>\n",
              "      <td>...</td>\n",
              "      <td>1</td>\n",
              "      <td>2</td>\n",
              "      <td>1</td>\n",
              "      <td>14339</td>\n",
              "      <td>1</td>\n",
              "      <td>0</td>\n",
              "      <td>0</td>\n",
              "      <td>0</td>\n",
              "      <td>0</td>\n",
              "      <td>1</td>\n",
              "    </tr>\n",
              "    <tr>\n",
              "      <th>4</th>\n",
              "      <td>1</td>\n",
              "      <td>1</td>\n",
              "      <td>0</td>\n",
              "      <td>4</td>\n",
              "      <td>0</td>\n",
              "      <td>0</td>\n",
              "      <td>0</td>\n",
              "      <td>0</td>\n",
              "      <td>0</td>\n",
              "      <td>0</td>\n",
              "      <td>...</td>\n",
              "      <td>1</td>\n",
              "      <td>2</td>\n",
              "      <td>1</td>\n",
              "      <td>389</td>\n",
              "      <td>1</td>\n",
              "      <td>1</td>\n",
              "      <td>0</td>\n",
              "      <td>0</td>\n",
              "      <td>0</td>\n",
              "      <td>1</td>\n",
              "    </tr>\n",
              "  </tbody>\n",
              "</table>\n",
              "<p>5 rows × 112 columns</p>\n",
              "</div>\n",
              "    <div class=\"colab-df-buttons\">\n",
              "\n",
              "  <div class=\"colab-df-container\">\n",
              "    <button class=\"colab-df-convert\" onclick=\"convertToInteractive('df-a58aedb6-f693-4556-8268-f864b003de40')\"\n",
              "            title=\"Convert this dataframe to an interactive table.\"\n",
              "            style=\"display:none;\">\n",
              "\n",
              "  <svg xmlns=\"http://www.w3.org/2000/svg\" height=\"24px\" viewBox=\"0 -960 960 960\">\n",
              "    <path d=\"M120-120v-720h720v720H120Zm60-500h600v-160H180v160Zm220 220h160v-160H400v160Zm0 220h160v-160H400v160ZM180-400h160v-160H180v160Zm440 0h160v-160H620v160ZM180-180h160v-160H180v160Zm440 0h160v-160H620v160Z\"/>\n",
              "  </svg>\n",
              "    </button>\n",
              "\n",
              "  <style>\n",
              "    .colab-df-container {\n",
              "      display:flex;\n",
              "      gap: 12px;\n",
              "    }\n",
              "\n",
              "    .colab-df-convert {\n",
              "      background-color: #E8F0FE;\n",
              "      border: none;\n",
              "      border-radius: 50%;\n",
              "      cursor: pointer;\n",
              "      display: none;\n",
              "      fill: #1967D2;\n",
              "      height: 32px;\n",
              "      padding: 0 0 0 0;\n",
              "      width: 32px;\n",
              "    }\n",
              "\n",
              "    .colab-df-convert:hover {\n",
              "      background-color: #E2EBFA;\n",
              "      box-shadow: 0px 1px 2px rgba(60, 64, 67, 0.3), 0px 1px 3px 1px rgba(60, 64, 67, 0.15);\n",
              "      fill: #174EA6;\n",
              "    }\n",
              "\n",
              "    .colab-df-buttons div {\n",
              "      margin-bottom: 4px;\n",
              "    }\n",
              "\n",
              "    [theme=dark] .colab-df-convert {\n",
              "      background-color: #3B4455;\n",
              "      fill: #D2E3FC;\n",
              "    }\n",
              "\n",
              "    [theme=dark] .colab-df-convert:hover {\n",
              "      background-color: #434B5C;\n",
              "      box-shadow: 0px 1px 3px 1px rgba(0, 0, 0, 0.15);\n",
              "      filter: drop-shadow(0px 1px 2px rgba(0, 0, 0, 0.3));\n",
              "      fill: #FFFFFF;\n",
              "    }\n",
              "  </style>\n",
              "\n",
              "    <script>\n",
              "      const buttonEl =\n",
              "        document.querySelector('#df-a58aedb6-f693-4556-8268-f864b003de40 button.colab-df-convert');\n",
              "      buttonEl.style.display =\n",
              "        google.colab.kernel.accessAllowed ? 'block' : 'none';\n",
              "\n",
              "      async function convertToInteractive(key) {\n",
              "        const element = document.querySelector('#df-a58aedb6-f693-4556-8268-f864b003de40');\n",
              "        const dataTable =\n",
              "          await google.colab.kernel.invokeFunction('convertToInteractive',\n",
              "                                                    [key], {});\n",
              "        if (!dataTable) return;\n",
              "\n",
              "        const docLinkHtml = 'Like what you see? Visit the ' +\n",
              "          '<a target=\"_blank\" href=https://colab.research.google.com/notebooks/data_table.ipynb>data table notebook</a>'\n",
              "          + ' to learn more about interactive tables.';\n",
              "        element.innerHTML = '';\n",
              "        dataTable['output_type'] = 'display_data';\n",
              "        await google.colab.output.renderOutput(dataTable, element);\n",
              "        const docLink = document.createElement('div');\n",
              "        docLink.innerHTML = docLinkHtml;\n",
              "        element.appendChild(docLink);\n",
              "      }\n",
              "    </script>\n",
              "  </div>\n",
              "\n",
              "\n",
              "<div id=\"df-4cf78707-adf6-4d40-bd05-b45bbc6299e8\">\n",
              "  <button class=\"colab-df-quickchart\" onclick=\"quickchart('df-4cf78707-adf6-4d40-bd05-b45bbc6299e8')\"\n",
              "            title=\"Suggest charts.\"\n",
              "            style=\"display:none;\">\n",
              "\n",
              "<svg xmlns=\"http://www.w3.org/2000/svg\" height=\"24px\"viewBox=\"0 0 24 24\"\n",
              "     width=\"24px\">\n",
              "    <g>\n",
              "        <path d=\"M19 3H5c-1.1 0-2 .9-2 2v14c0 1.1.9 2 2 2h14c1.1 0 2-.9 2-2V5c0-1.1-.9-2-2-2zM9 17H7v-7h2v7zm4 0h-2V7h2v10zm4 0h-2v-4h2v4z\"/>\n",
              "    </g>\n",
              "</svg>\n",
              "  </button>\n",
              "\n",
              "<style>\n",
              "  .colab-df-quickchart {\n",
              "      --bg-color: #E8F0FE;\n",
              "      --fill-color: #1967D2;\n",
              "      --hover-bg-color: #E2EBFA;\n",
              "      --hover-fill-color: #174EA6;\n",
              "      --disabled-fill-color: #AAA;\n",
              "      --disabled-bg-color: #DDD;\n",
              "  }\n",
              "\n",
              "  [theme=dark] .colab-df-quickchart {\n",
              "      --bg-color: #3B4455;\n",
              "      --fill-color: #D2E3FC;\n",
              "      --hover-bg-color: #434B5C;\n",
              "      --hover-fill-color: #FFFFFF;\n",
              "      --disabled-bg-color: #3B4455;\n",
              "      --disabled-fill-color: #666;\n",
              "  }\n",
              "\n",
              "  .colab-df-quickchart {\n",
              "    background-color: var(--bg-color);\n",
              "    border: none;\n",
              "    border-radius: 50%;\n",
              "    cursor: pointer;\n",
              "    display: none;\n",
              "    fill: var(--fill-color);\n",
              "    height: 32px;\n",
              "    padding: 0;\n",
              "    width: 32px;\n",
              "  }\n",
              "\n",
              "  .colab-df-quickchart:hover {\n",
              "    background-color: var(--hover-bg-color);\n",
              "    box-shadow: 0 1px 2px rgba(60, 64, 67, 0.3), 0 1px 3px 1px rgba(60, 64, 67, 0.15);\n",
              "    fill: var(--button-hover-fill-color);\n",
              "  }\n",
              "\n",
              "  .colab-df-quickchart-complete:disabled,\n",
              "  .colab-df-quickchart-complete:disabled:hover {\n",
              "    background-color: var(--disabled-bg-color);\n",
              "    fill: var(--disabled-fill-color);\n",
              "    box-shadow: none;\n",
              "  }\n",
              "\n",
              "  .colab-df-spinner {\n",
              "    border: 2px solid var(--fill-color);\n",
              "    border-color: transparent;\n",
              "    border-bottom-color: var(--fill-color);\n",
              "    animation:\n",
              "      spin 1s steps(1) infinite;\n",
              "  }\n",
              "\n",
              "  @keyframes spin {\n",
              "    0% {\n",
              "      border-color: transparent;\n",
              "      border-bottom-color: var(--fill-color);\n",
              "      border-left-color: var(--fill-color);\n",
              "    }\n",
              "    20% {\n",
              "      border-color: transparent;\n",
              "      border-left-color: var(--fill-color);\n",
              "      border-top-color: var(--fill-color);\n",
              "    }\n",
              "    30% {\n",
              "      border-color: transparent;\n",
              "      border-left-color: var(--fill-color);\n",
              "      border-top-color: var(--fill-color);\n",
              "      border-right-color: var(--fill-color);\n",
              "    }\n",
              "    40% {\n",
              "      border-color: transparent;\n",
              "      border-right-color: var(--fill-color);\n",
              "      border-top-color: var(--fill-color);\n",
              "    }\n",
              "    60% {\n",
              "      border-color: transparent;\n",
              "      border-right-color: var(--fill-color);\n",
              "    }\n",
              "    80% {\n",
              "      border-color: transparent;\n",
              "      border-right-color: var(--fill-color);\n",
              "      border-bottom-color: var(--fill-color);\n",
              "    }\n",
              "    90% {\n",
              "      border-color: transparent;\n",
              "      border-bottom-color: var(--fill-color);\n",
              "    }\n",
              "  }\n",
              "</style>\n",
              "\n",
              "  <script>\n",
              "    async function quickchart(key) {\n",
              "      const quickchartButtonEl =\n",
              "        document.querySelector('#' + key + ' button');\n",
              "      quickchartButtonEl.disabled = true;  // To prevent multiple clicks.\n",
              "      quickchartButtonEl.classList.add('colab-df-spinner');\n",
              "      try {\n",
              "        const charts = await google.colab.kernel.invokeFunction(\n",
              "            'suggestCharts', [key], {});\n",
              "      } catch (error) {\n",
              "        console.error('Error during call to suggestCharts:', error);\n",
              "      }\n",
              "      quickchartButtonEl.classList.remove('colab-df-spinner');\n",
              "      quickchartButtonEl.classList.add('colab-df-quickchart-complete');\n",
              "    }\n",
              "    (() => {\n",
              "      let quickchartButtonEl =\n",
              "        document.querySelector('#df-4cf78707-adf6-4d40-bd05-b45bbc6299e8 button');\n",
              "      quickchartButtonEl.style.display =\n",
              "        google.colab.kernel.accessAllowed ? 'block' : 'none';\n",
              "    })();\n",
              "  </script>\n",
              "</div>\n",
              "    </div>\n",
              "  </div>\n"
            ]
          },
          "metadata": {},
          "execution_count": 20
        }
      ]
    },
    {
      "cell_type": "markdown",
      "source": [
        "Verificando os tipos de variáveis associadas a este dataset"
      ],
      "metadata": {
        "id": "V4qznSjEuJmn"
      }
    },
    {
      "cell_type": "code",
      "source": [
        "# tipo das variáveis\n",
        "print(\"\\nVariáveis:\")\n",
        "print(dataset.dtypes)"
      ],
      "metadata": {
        "colab": {
          "base_uri": "https://localhost:8080/"
        },
        "id": "8uDZa8ZQuZJt",
        "outputId": "71915e34-37dd-40e2-c619-2f22cfa7a5da"
      },
      "execution_count": null,
      "outputs": [
        {
          "output_type": "stream",
          "name": "stdout",
          "text": [
            "\n",
            "Variáveis:\n",
            "qty_dot_url             int64\n",
            "qty_hyphen_url          int64\n",
            "qty_underline_url       int64\n",
            "qty_slash_url           int64\n",
            "qty_questionmark_url    int64\n",
            "                        ...  \n",
            "qty_redirects           int64\n",
            "url_google_index        int64\n",
            "domain_google_index     int64\n",
            "url_shortened           int64\n",
            "phishing                int64\n",
            "Length: 112, dtype: object\n"
          ]
        }
      ]
    },
    {
      "cell_type": "markdown",
      "source": [
        "Verificando a quantidade de valores ausentes por feature no dataset, essa informação é importante pois a falta destes dados pode afetar ignificativamente a qualidade e a utilidade desse conjunto de dados."
      ],
      "metadata": {
        "id": "dzw35SOPuxJF"
      }
    },
    {
      "cell_type": "code",
      "source": [
        "# valores ausentes\n",
        "print(\"\\nVALORES AUSENTES:\")\n",
        "print((dataset.isnull().sum() / dataset.shape[0]).sort_values(ascending=False))"
      ],
      "metadata": {
        "colab": {
          "base_uri": "https://localhost:8080/"
        },
        "id": "KbwKIN6Pur0V",
        "outputId": "210debdb-bcd8-4dae-9b6b-8701ab66b168"
      },
      "execution_count": null,
      "outputs": [
        {
          "output_type": "stream",
          "name": "stdout",
          "text": [
            "\n",
            "VALORES AUSENTES:\n",
            "qty_dot_url                0.0\n",
            "qty_hyphen_url             0.0\n",
            "qty_at_params              0.0\n",
            "qty_equal_params           0.0\n",
            "qty_questionmark_params    0.0\n",
            "                          ... \n",
            "qty_hashtag_domain         0.0\n",
            "qty_asterisk_domain        0.0\n",
            "qty_plus_domain            0.0\n",
            "qty_comma_domain           0.0\n",
            "phishing                   0.0\n",
            "Length: 112, dtype: float64\n"
          ]
        }
      ]
    },
    {
      "cell_type": "markdown",
      "source": [
        "Agora iremos analisar a quantidade de dados associados ao target 'phising' neste data set.\n",
        "\n"
      ],
      "metadata": {
        "id": "dKuMyckqw9Ff"
      }
    },
    {
      "cell_type": "code",
      "source": [
        "# Proporção de Phishing presentes no dataset\n",
        "fig, ax = plt.subplots()\n",
        "sns.countplot(x='phishing', data=dataset, ax=ax)\n",
        "ax.set_title(\"Quantidade de phishing\")\n",
        "ax.set_xlabel(\"0 = Não Phishing 1 = Phishing\")\n",
        "ax.set_ylabel(\"Quantidade\")\n",
        "plt.show()\n",
        "\n",
        "print(\"Proporção entre Phising no Dataset:\")\n",
        "print(dataset['phishing'].value_counts() / dataset.shape[0])"
      ],
      "metadata": {
        "colab": {
          "base_uri": "https://localhost:8080/",
          "height": 541
        },
        "id": "1K_N8LVkxHyP",
        "outputId": "3eb7cead-d265-47ae-c09e-a61136b7903d"
      },
      "execution_count": null,
      "outputs": [
        {
          "output_type": "display_data",
          "data": {
            "text/plain": [
              "<Figure size 640x480 with 1 Axes>"
            ],
            "image/png": "[encoded data removed]"
          },
          "metadata": {}
        },
        {
          "output_type": "stream",
          "name": "stdout",
          "text": [
            "Proporção entre Phising no Dataset:\n",
            "1    0.522585\n",
            "0    0.477415\n",
            "Name: phishing, dtype: float64\n"
          ]
        }
      ]
    },
    {
      "cell_type": "markdown",
      "source": [
        "##Agora iremos separar a variável target 'phishing' das outras variáveis e dividir o dataset em duas partes sendo:                             \n",
        "\n",
        "1.   Dados de Treino = 70% da base para treino\n",
        "2.   Dados de Teste = 30% do dataset para teste (teste_size)\n",
        "\n",
        "#Na divisão utilizaremos a função `train_test_split`.\n"
      ],
      "metadata": {
        "id": "FrS1MxHc07U-"
      }
    },
    {
      "cell_type": "code",
      "source": [
        "#separa X e Y\n",
        "X = dataset.drop ('phishing', axis =1)\n",
        "y = dataset.phishing"
      ],
      "metadata": {
        "id": "g2jSAQWDWc2g"
      },
      "execution_count": null,
      "outputs": []
    },
    {
      "cell_type": "code",
      "source": [
        "#treina o modelo\n",
        "X_train, X_test, y_train, y_test = train_test_split(X, y, test_size = 0.33, random_state=42)\n",
        "X_train.shape, X_test.shape\n"
      ],
      "metadata": {
        "colab": {
          "base_uri": "https://localhost:8080/"
        },
        "id": "2aWkVp_RW8bn",
        "outputId": "8fce8846-a314-4e79-b493-845a6e350bfd"
      },
      "execution_count": null,
      "outputs": [
        {
          "output_type": "execute_result",
          "data": {
            "text/plain": [
              "((39292, 111), (19353, 111))"
            ]
          },
          "metadata": {},
          "execution_count": 25
        }
      ]
    },
    {
      "cell_type": "markdown",
      "source": [
        "#Etapa de construção do modelo#\n",
        "Utilizaremos dois modelos supervisionados simples de Classificação Decision tree e Random Forest, como mencionado inicialmente, a proposta deste estudo é avaliar a acurácia dos modelos através do dataset processado anteriormente e estabelecer pontos positivos do uso de ML no âmbito da segurança da informação, contribuindo de alguma maneira para futuras pesquisas neste espectro.\n",
        "                                              "
      ],
      "metadata": {
        "id": "LsVy-0T53mzH"
      }
    },
    {
      "cell_type": "markdown",
      "source": [
        "Métricas utilizadas para este estudo:\n",
        "\n",
        "Accurácia : Como informado utilizaremos esta métrica no sentido de realizar uma verificação mais generalista, diante do pressuposto, existe a possibilidade de não ser uma solução ideal inicialmente, porém, utilizremos como ponto de partida para futuras correlações."
      ],
      "metadata": {
        "id": "fs9zl5ij7h3H"
      }
    },
    {
      "cell_type": "markdown",
      "source": [
        "Um dos problemas da árvore de decisão é a possibilidade dela decorar os dados e não generalizar, isso significa que a árvore pode se adequar perfeitamente apenas na base teste não tendo um bom resultado quando é submetida a outra base.\n",
        "\n",
        "Existem algumas formas de minimizar essa limitação, uma delas é podar a arvore a fim de evitar que o overfitting afete a tomada de decisão.\n",
        "\n",
        "Limitaremos o tamanho da árvore através do max_depth para 3."
      ],
      "metadata": {
        "id": "raMS8vKCIH9g"
      }
    },
    {
      "cell_type": "code",
      "source": [
        "# Criar o modelo da árvore de decisão\n",
        "modelo_arvore = DecisionTreeClassifier()\n",
        "\n",
        "# Treinar o modelo com os dados de treinamento\n",
        "modelo_arvore.fit(X_train, y_train)\n",
        "\n",
        "# Fazer previsões com o modelo nos dados de teste\n",
        "previsoes = modelo_arvore.predict(X_test)\n",
        "\n",
        "# Calcular a acurácia\n",
        "acuracia = accuracy_score(y_test, previsoes)\n",
        "\n",
        "# Calcular a precisão\n",
        "precisao = precision_score(y_test, previsoes)\n",
        "\n",
        "# Imprimir a acurácia\n",
        "print(f'Acurácia do modelo de árvore de decisão: {acuracia}')\n",
        "\n",
        "# Imprimir a precisão\n",
        "print(f'Precisão do modelo de árvore de decisão: {precisao}')"
      ],
      "metadata": {
        "colab": {
          "base_uri": "https://localhost:8080/"
        },
        "id": "yDtvrie7-6XG",
        "outputId": "b70b7fc5-8508-4da0-8c7f-834855335f3f"
      },
      "execution_count": null,
      "outputs": [
        {
          "output_type": "stream",
          "name": "stdout",
          "text": [
            "Acurácia do modelo de árvore de decisão: 0.9293132847620524\n",
            "Precisão do modelo de árvore de decisão: 0.9320407557621921\n"
          ]
        }
      ]
    },
    {
      "cell_type": "markdown",
      "source": [
        "mesmo não tendo aplicado tuning de hiperparâmetros nos dados do modelo acima, conseguimos o resultado de 93% na nossa baseline.\n",
        " Avaliaremos a matriz de confusão:\n",
        "\n"
      ],
      "metadata": {
        "id": "6M2ONwPbBGll"
      }
    },
    {
      "cell_type": "code",
      "source": [
        " #Calcular a matriz de confusão\n",
        "matriz_confusao = confusion_matrix(y_test, previsoes)\n",
        "\n",
        "# Visualizar a matriz de confusão usando um mapa de calor (opcional)\n",
        "plt.figure(figsize=(8, 6))\n",
        "sns.heatmap(matriz_confusao, annot=True, fmt='d', cmap='Blues', cbar=False)\n",
        "plt.xlabel('Rótulos Previstos')\n",
        "plt.ylabel('Rótulos Verdadeiros')\n",
        "plt.title('Matriz de Confusão')\n",
        "plt.show()"
      ],
      "metadata": {
        "colab": {
          "base_uri": "https://localhost:8080/",
          "height": 564
        },
        "id": "1W8E8xhO_fOd",
        "outputId": "3b3846f8-1928-4a7d-841f-10356b2710d3"
      },
      "execution_count": null,
      "outputs": [
        {
          "output_type": "display_data",
          "data": {
            "text/plain": [
              "<Figure size 800x600 with 1 Axes>"
            ],
            "image/png": "[encoded data removed]"
          },
          "metadata": {}
        }
      ]
    },
    {
      "cell_type": "markdown",
      "source": [
        "**Primeira Linha:**\n",
        "\n",
        "8563 é o número de verdadeiros positivos (TP) para a classe positiva, isso representa o número de instâncias da classe positiva corretamente classificadas como positivas. É um indicativo de quão bem o modelo acertou os casos positivos.\n",
        "\n",
        "687 é o número de falsos negativos (FN) para a classe positiva, isso representa o número de instâncias da classe positiva que foram erroneamente classificadas como negativas. Em outras palavras, são casos positivos que o modelo perdeu.\n",
        "\n",
        "**Segunda Linha:**\n",
        "\n",
        "681 é o número de falsos positivos (FP) para a classe negativa, isso representa o número de instâncias da classe negativa que foram erroneamente classificadas como positivas. São erros em que o modelo \"falsamente\" previu a classe positiva.\n",
        "\n",
        "9422 é o número de verdadeiros negativos (TN) para a classe negativa, isso representa o número de instâncias da classe negativa corretamente classificadas como negativas. É um indicativo de quão bem o modelo acertou os casos negativos."
      ],
      "metadata": {
        "id": "h3f4pRaDCg1d"
      }
    },
    {
      "cell_type": "markdown",
      "source": [
        "Um dos problemas da árvore de decisão é a possibilidade dela decorar os dados e não generalizar, isso significa que a árvore pode se adequar perfeitamente apenas na base teste não tendo um bom resultado quando é submetida a outra base.\n",
        "\n",
        "Existem algumas formas de minimizar essa limitação, uma delas é podar a arvore a fim de evitar que o overfitting afete a tomada de decisão.\n",
        "\n",
        "Limitaremos o tamanho da árvore através do max_depth"
      ],
      "metadata": {
        "id": "S1lJvpjxhBLl"
      }
    },
    {
      "cell_type": "markdown",
      "source": [
        "#Podando a árvore definindo o MAX_DEPH e verificando o desenpenho.\n",
        "\n",
        "Quanto mais nós a árvore possui, maior é a probabilidade da arvore sofrer overfitting e se tornar menos generalizável.\n",
        "\n",
        "Ajustaremos a profundidade máxima da árvore através do Hiperparâmetro max_deph"
      ],
      "metadata": {
        "id": "aIgjihrNjjjU"
      }
    },
    {
      "cell_type": "code",
      "source": [
        "#importa o dataset\n",
        "dataset = pd.read_csv(\"/content/drive/MyDrive/TCC-Dataset/dataset_small.csv\")\n"
      ],
      "metadata": {
        "id": "vlFLudzfj9Rq"
      },
      "execution_count": null,
      "outputs": []
    },
    {
      "cell_type": "code",
      "source": [
        "#Retorna os dados\n",
        "dataset.head(3)\n",
        "\n"
      ],
      "metadata": {
        "colab": {
          "base_uri": "https://localhost:8080/",
          "height": 193
        },
        "id": "G7NKA1TBkXzD",
        "outputId": "ca70d7da-97ef-4a8e-872b-0e758095eecc"
      },
      "execution_count": null,
      "outputs": [
        {
          "output_type": "execute_result",
          "data": {
            "text/plain": [
              "   qty_dot_url  qty_hyphen_url  qty_underline_url  qty_slash_url  \\\n",
              "0            2               0                  0              0   \n",
              "1            4               0                  0              2   \n",
              "2            1               0                  0              1   \n",
              "\n",
              "   qty_questionmark_url  qty_equal_url  qty_at_url  qty_and_url  \\\n",
              "0                     0              0           0            0   \n",
              "1                     0              0           0            0   \n",
              "2                     0              0           0            0   \n",
              "\n",
              "   qty_exclamation_url  qty_space_url  ...  qty_ip_resolved  qty_nameservers  \\\n",
              "0                    0              0  ...                1                4   \n",
              "1                    0              0  ...                1                4   \n",
              "2                    0              0  ...                1                2   \n",
              "\n",
              "   qty_mx_servers  ttl_hostname  tls_ssl_certificate  qty_redirects  \\\n",
              "0               2          3598                    0              0   \n",
              "1               1          3977                    1              0   \n",
              "2               1         10788                    0              0   \n",
              "\n",
              "   url_google_index  domain_google_index  url_shortened  phishing  \n",
              "0                 0                    0              0         0  \n",
              "1                 0                    0              0         0  \n",
              "2                 0                    0              0         0  \n",
              "\n",
              "[3 rows x 112 columns]"
            ],
            "text/html": [
              "\n",
              "  <div id=\"df-6bcabc67-f993-4302-afc8-45ee4ef75b39\" class=\"colab-df-container\">\n",
              "    <div>\n",
              "<style scoped>\n",
              "    .dataframe tbody tr th:only-of-type {\n",
              "        vertical-align: middle;\n",
              "    }\n",
              "\n",
              "    .dataframe tbody tr th {\n",
              "        vertical-align: top;\n",
              "    }\n",
              "\n",
              "    .dataframe thead th {\n",
              "        text-align: right;\n",
              "    }\n",
              "</style>\n",
              "<table border=\"1\" class=\"dataframe\">\n",
              "  <thead>\n",
              "    <tr style=\"text-align: right;\">\n",
              "      <th></th>\n",
              "      <th>qty_dot_url</th>\n",
              "      <th>qty_hyphen_url</th>\n",
              "      <th>qty_underline_url</th>\n",
              "      <th>qty_slash_url</th>\n",
              "      <th>qty_questionmark_url</th>\n",
              "      <th>qty_equal_url</th>\n",
              "      <th>qty_at_url</th>\n",
              "      <th>qty_and_url</th>\n",
              "      <th>qty_exclamation_url</th>\n",
              "      <th>qty_space_url</th>\n",
              "      <th>...</th>\n",
              "      <th>qty_ip_resolved</th>\n",
              "      <th>qty_nameservers</th>\n",
              "      <th>qty_mx_servers</th>\n",
              "      <th>ttl_hostname</th>\n",
              "      <th>tls_ssl_certificate</th>\n",
              "      <th>qty_redirects</th>\n",
              "      <th>url_google_index</th>\n",
              "      <th>domain_google_index</th>\n",
              "      <th>url_shortened</th>\n",
              "      <th>phishing</th>\n",
              "    </tr>\n",
              "  </thead>\n",
              "  <tbody>\n",
              "    <tr>\n",
              "      <th>0</th>\n",
              "      <td>2</td>\n",
              "      <td>0</td>\n",
              "      <td>0</td>\n",
              "      <td>0</td>\n",
              "      <td>0</td>\n",
              "      <td>0</td>\n",
              "      <td>0</td>\n",
              "      <td>0</td>\n",
              "      <td>0</td>\n",
              "      <td>0</td>\n",
              "      <td>...</td>\n",
              "      <td>1</td>\n",
              "      <td>4</td>\n",
              "      <td>2</td>\n",
              "      <td>3598</td>\n",
              "      <td>0</td>\n",
              "      <td>0</td>\n",
              "      <td>0</td>\n",
              "      <td>0</td>\n",
              "      <td>0</td>\n",
              "      <td>0</td>\n",
              "    </tr>\n",
              "    <tr>\n",
              "      <th>1</th>\n",
              "      <td>4</td>\n",
              "      <td>0</td>\n",
              "      <td>0</td>\n",
              "      <td>2</td>\n",
              "      <td>0</td>\n",
              "      <td>0</td>\n",
              "      <td>0</td>\n",
              "      <td>0</td>\n",
              "      <td>0</td>\n",
              "      <td>0</td>\n",
              "      <td>...</td>\n",
              "      <td>1</td>\n",
              "      <td>4</td>\n",
              "      <td>1</td>\n",
              "      <td>3977</td>\n",
              "      <td>1</td>\n",
              "      <td>0</td>\n",
              "      <td>0</td>\n",
              "      <td>0</td>\n",
              "      <td>0</td>\n",
              "      <td>0</td>\n",
              "    </tr>\n",
              "    <tr>\n",
              "      <th>2</th>\n",
              "      <td>1</td>\n",
              "      <td>0</td>\n",
              "      <td>0</td>\n",
              "      <td>1</td>\n",
              "      <td>0</td>\n",
              "      <td>0</td>\n",
              "      <td>0</td>\n",
              "      <td>0</td>\n",
              "      <td>0</td>\n",
              "      <td>0</td>\n",
              "      <td>...</td>\n",
              "      <td>1</td>\n",
              "      <td>2</td>\n",
              "      <td>1</td>\n",
              "      <td>10788</td>\n",
              "      <td>0</td>\n",
              "      <td>0</td>\n",
              "      <td>0</td>\n",
              "      <td>0</td>\n",
              "      <td>0</td>\n",
              "      <td>0</td>\n",
              "    </tr>\n",
              "  </tbody>\n",
              "</table>\n",
              "<p>3 rows × 112 columns</p>\n",
              "</div>\n",
              "    <div class=\"colab-df-buttons\">\n",
              "\n",
              "  <div class=\"colab-df-container\">\n",
              "    <button class=\"colab-df-convert\" onclick=\"convertToInteractive('df-6bcabc67-f993-4302-afc8-45ee4ef75b39')\"\n",
              "            title=\"Convert this dataframe to an interactive table.\"\n",
              "            style=\"display:none;\">\n",
              "\n",
              "  <svg xmlns=\"http://www.w3.org/2000/svg\" height=\"24px\" viewBox=\"0 -960 960 960\">\n",
              "    <path d=\"M120-120v-720h720v720H120Zm60-500h600v-160H180v160Zm220 220h160v-160H400v160Zm0 220h160v-160H400v160ZM180-400h160v-160H180v160Zm440 0h160v-160H620v160ZM180-180h160v-160H180v160Zm440 0h160v-160H620v160Z\"/>\n",
              "  </svg>\n",
              "    </button>\n",
              "\n",
              "  <style>\n",
              "    .colab-df-container {\n",
              "      display:flex;\n",
              "      gap: 12px;\n",
              "    }\n",
              "\n",
              "    .colab-df-convert {\n",
              "      background-color: #E8F0FE;\n",
              "      border: none;\n",
              "      border-radius: 50%;\n",
              "      cursor: pointer;\n",
              "      display: none;\n",
              "      fill: #1967D2;\n",
              "      height: 32px;\n",
              "      padding: 0 0 0 0;\n",
              "      width: 32px;\n",
              "    }\n",
              "\n",
              "    .colab-df-convert:hover {\n",
              "      background-color: #E2EBFA;\n",
              "      box-shadow: 0px 1px 2px rgba(60, 64, 67, 0.3), 0px 1px 3px 1px rgba(60, 64, 67, 0.15);\n",
              "      fill: #174EA6;\n",
              "    }\n",
              "\n",
              "    .colab-df-buttons div {\n",
              "      margin-bottom: 4px;\n",
              "    }\n",
              "\n",
              "    [theme=dark] .colab-df-convert {\n",
              "      background-color: #3B4455;\n",
              "      fill: #D2E3FC;\n",
              "    }\n",
              "\n",
              "    [theme=dark] .colab-df-convert:hover {\n",
              "      background-color: #434B5C;\n",
              "      box-shadow: 0px 1px 3px 1px rgba(0, 0, 0, 0.15);\n",
              "      filter: drop-shadow(0px 1px 2px rgba(0, 0, 0, 0.3));\n",
              "      fill: #FFFFFF;\n",
              "    }\n",
              "  </style>\n",
              "\n",
              "    <script>\n",
              "      const buttonEl =\n",
              "        document.querySelector('#df-6bcabc67-f993-4302-afc8-45ee4ef75b39 button.colab-df-convert');\n",
              "      buttonEl.style.display =\n",
              "        google.colab.kernel.accessAllowed ? 'block' : 'none';\n",
              "\n",
              "      async function convertToInteractive(key) {\n",
              "        const element = document.querySelector('#df-6bcabc67-f993-4302-afc8-45ee4ef75b39');\n",
              "        const dataTable =\n",
              "          await google.colab.kernel.invokeFunction('convertToInteractive',\n",
              "                                                    [key], {});\n",
              "        if (!dataTable) return;\n",
              "\n",
              "        const docLinkHtml = 'Like what you see? Visit the ' +\n",
              "          '<a target=\"_blank\" href=https://colab.research.google.com/notebooks/data_table.ipynb>data table notebook</a>'\n",
              "          + ' to learn more about interactive tables.';\n",
              "        element.innerHTML = '';\n",
              "        dataTable['output_type'] = 'display_data';\n",
              "        await google.colab.output.renderOutput(dataTable, element);\n",
              "        const docLink = document.createElement('div');\n",
              "        docLink.innerHTML = docLinkHtml;\n",
              "        element.appendChild(docLink);\n",
              "      }\n",
              "    </script>\n",
              "  </div>\n",
              "\n",
              "\n",
              "<div id=\"df-3570d711-7376-48fd-a96e-c910c24fe0c4\">\n",
              "  <button class=\"colab-df-quickchart\" onclick=\"quickchart('df-3570d711-7376-48fd-a96e-c910c24fe0c4')\"\n",
              "            title=\"Suggest charts.\"\n",
              "            style=\"display:none;\">\n",
              "\n",
              "<svg xmlns=\"http://www.w3.org/2000/svg\" height=\"24px\"viewBox=\"0 0 24 24\"\n",
              "     width=\"24px\">\n",
              "    <g>\n",
              "        <path d=\"M19 3H5c-1.1 0-2 .9-2 2v14c0 1.1.9 2 2 2h14c1.1 0 2-.9 2-2V5c0-1.1-.9-2-2-2zM9 17H7v-7h2v7zm4 0h-2V7h2v10zm4 0h-2v-4h2v4z\"/>\n",
              "    </g>\n",
              "</svg>\n",
              "  </button>\n",
              "\n",
              "<style>\n",
              "  .colab-df-quickchart {\n",
              "      --bg-color: #E8F0FE;\n",
              "      --fill-color: #1967D2;\n",
              "      --hover-bg-color: #E2EBFA;\n",
              "      --hover-fill-color: #174EA6;\n",
              "      --disabled-fill-color: #AAA;\n",
              "      --disabled-bg-color: #DDD;\n",
              "  }\n",
              "\n",
              "  [theme=dark] .colab-df-quickchart {\n",
              "      --bg-color: #3B4455;\n",
              "      --fill-color: #D2E3FC;\n",
              "      --hover-bg-color: #434B5C;\n",
              "      --hover-fill-color: #FFFFFF;\n",
              "      --disabled-bg-color: #3B4455;\n",
              "      --disabled-fill-color: #666;\n",
              "  }\n",
              "\n",
              "  .colab-df-quickchart {\n",
              "    background-color: var(--bg-color);\n",
              "    border: none;\n",
              "    border-radius: 50%;\n",
              "    cursor: pointer;\n",
              "    display: none;\n",
              "    fill: var(--fill-color);\n",
              "    height: 32px;\n",
              "    padding: 0;\n",
              "    width: 32px;\n",
              "  }\n",
              "\n",
              "  .colab-df-quickchart:hover {\n",
              "    background-color: var(--hover-bg-color);\n",
              "    box-shadow: 0 1px 2px rgba(60, 64, 67, 0.3), 0 1px 3px 1px rgba(60, 64, 67, 0.15);\n",
              "    fill: var(--button-hover-fill-color);\n",
              "  }\n",
              "\n",
              "  .colab-df-quickchart-complete:disabled,\n",
              "  .colab-df-quickchart-complete:disabled:hover {\n",
              "    background-color: var(--disabled-bg-color);\n",
              "    fill: var(--disabled-fill-color);\n",
              "    box-shadow: none;\n",
              "  }\n",
              "\n",
              "  .colab-df-spinner {\n",
              "    border: 2px solid var(--fill-color);\n",
              "    border-color: transparent;\n",
              "    border-bottom-color: var(--fill-color);\n",
              "    animation:\n",
              "      spin 1s steps(1) infinite;\n",
              "  }\n",
              "\n",
              "  @keyframes spin {\n",
              "    0% {\n",
              "      border-color: transparent;\n",
              "      border-bottom-color: var(--fill-color);\n",
              "      border-left-color: var(--fill-color);\n",
              "    }\n",
              "    20% {\n",
              "      border-color: transparent;\n",
              "      border-left-color: var(--fill-color);\n",
              "      border-top-color: var(--fill-color);\n",
              "    }\n",
              "    30% {\n",
              "      border-color: transparent;\n",
              "      border-left-color: var(--fill-color);\n",
              "      border-top-color: var(--fill-color);\n",
              "      border-right-color: var(--fill-color);\n",
              "    }\n",
              "    40% {\n",
              "      border-color: transparent;\n",
              "      border-right-color: var(--fill-color);\n",
              "      border-top-color: var(--fill-color);\n",
              "    }\n",
              "    60% {\n",
              "      border-color: transparent;\n",
              "      border-right-color: var(--fill-color);\n",
              "    }\n",
              "    80% {\n",
              "      border-color: transparent;\n",
              "      border-right-color: var(--fill-color);\n",
              "      border-bottom-color: var(--fill-color);\n",
              "    }\n",
              "    90% {\n",
              "      border-color: transparent;\n",
              "      border-bottom-color: var(--fill-color);\n",
              "    }\n",
              "  }\n",
              "</style>\n",
              "\n",
              "  <script>\n",
              "    async function quickchart(key) {\n",
              "      const quickchartButtonEl =\n",
              "        document.querySelector('#' + key + ' button');\n",
              "      quickchartButtonEl.disabled = true;  // To prevent multiple clicks.\n",
              "      quickchartButtonEl.classList.add('colab-df-spinner');\n",
              "      try {\n",
              "        const charts = await google.colab.kernel.invokeFunction(\n",
              "            'suggestCharts', [key], {});\n",
              "      } catch (error) {\n",
              "        console.error('Error during call to suggestCharts:', error);\n",
              "      }\n",
              "      quickchartButtonEl.classList.remove('colab-df-spinner');\n",
              "      quickchartButtonEl.classList.add('colab-df-quickchart-complete');\n",
              "    }\n",
              "    (() => {\n",
              "      let quickchartButtonEl =\n",
              "        document.querySelector('#df-3570d711-7376-48fd-a96e-c910c24fe0c4 button');\n",
              "      quickchartButtonEl.style.display =\n",
              "        google.colab.kernel.accessAllowed ? 'block' : 'none';\n",
              "    })();\n",
              "  </script>\n",
              "</div>\n",
              "    </div>\n",
              "  </div>\n"
            ]
          },
          "metadata": {},
          "execution_count": 29
        }
      ]
    },
    {
      "cell_type": "markdown",
      "source": [
        "#Criando um novo classificador \"Podando a árvore\" usando o max_deph, definindo a produnfidade da árvore.\n",
        "Definiremos como teste que o nivel máximo de profundidade da árvore será 3 e veremos como essa árvore se comportará"
      ],
      "metadata": {
        "id": "kxWucaDhoVvE"
      }
    },
    {
      "cell_type": "code",
      "source": [
        "clf =  tree.DecisionTreeClassifier (random_state =0,max_depth=3).fit(X_train,y_train)\n",
        "\n",
        "fig,ax=plt.subplots(figsize=(10,8))\n",
        "tree.plot_tree(clf)\n",
        "plt.show()\n",
        "\n"
      ],
      "metadata": {
        "colab": {
          "base_uri": "https://localhost:8080/",
          "height": 653
        },
        "id": "yR5Sf4sHokwj",
        "outputId": "9ae50a35-8e2f-44de-8fd5-7d50076d5067"
      },
      "execution_count": null,
      "outputs": [
        {
          "output_type": "display_data",
          "data": {
            "text/plain": [
              "<Figure size 1000x800 with 1 Axes>"
            ],
            "image/png": "[encoded data removed]"
          },
          "metadata": {}
        }
      ]
    },
    {
      "cell_type": "code",
      "source": [
        "# Treinar o modelo com os dados de treinamento\n",
        "clf.fit(X_train, y_train)\n",
        "\n",
        "# Fazer previsões com o modelo nos dados de teste\n",
        "previsoes = clf.predict(X_test)\n",
        "\n",
        "# Calcular a acurácia após a poda da árvore\n",
        "acuracia = accuracy_score(y_test, previsoes)\n",
        "\n",
        "# Calcular a precisão após a poda da árvore\n",
        "precisao = precision_score(y_test, previsoes)\n",
        "\n",
        "# Imprimir a acurácia e a precisão após a poda da árvore\n",
        "print(f'Acurácia do modelo de árvore de decisão: {acuracia}')\n",
        "print(f'Precisão do modelo de árvore de decisão: {precisao}')"
      ],
      "metadata": {
        "colab": {
          "base_uri": "https://localhost:8080/"
        },
        "id": "yZYLcYPZ1E_w",
        "outputId": "3c89d5e7-0e39-44b9-c23a-471b9954f2f0"
      },
      "execution_count": null,
      "outputs": [
        {
          "output_type": "stream",
          "name": "stdout",
          "text": [
            "Acurácia do modelo de árvore de decisão: 0.8787268123805095\n",
            "Precisão do modelo de árvore de decisão: 0.8354090987718388\n"
          ]
        }
      ]
    },
    {
      "cell_type": "markdown",
      "source": [
        "#Conclusão#\n",
        "\n",
        "Após diminuir a profundidade da árvore, verificamos que a acurácia do modelo de árvore de decisão foi reduzida para 88% e a precisão caiu para 83%, isso acontece porque uma árvore de decisão rasa é menos complexa e tem menos capacidade de se ajustar a detalhes complexos nos dados. Levantaremos alguns pontos quanto a essa alteração:\n",
        "\n",
        "1- Perda de Informações Detalhadas: Quando você diminui max_depth, a árvore de decisão se torna mais rasa e não pode dividir os dados em níveis mais profundos. Isso leva à perda de informações detalhadas e a uma capacidade reduzida de discernir padrões complexos e sutis nos dados.\n",
        "\n",
        "2 -Overfitting Reduzido: Árvores de decisão profundas têm maior probabilidade de se adaptar excessivamente aos dados de treinamento, criando divisões que capturam ruídos. Reduzir a profundidade limita a complexidade do modelo, reduzindo assim a tendência ao overfitting, mas também resulta em menor capacidade de adaptação.\n",
        "\n",
        "3- Limitações na Representação: Para conjuntos de dados complexos, a representação fornecida por uma árvore rasa pode não ser suficiente para modelar os padrões intrincados presentes. Uma árvore mais profunda é capaz de representar melhor esses padrões.\n",
        "\n",
        "4- Viés Reduzido: Uma árvore rasa tem mais viés, o que significa que ela faz suposições simplificadas sobre os dados. Isso pode não ser ideal se os dados são intrinsecamente complexos e requerem uma modelagem mais flexível.\n",
        "\n",
        "5- Sensibilidade a Hiperparâmetros: A profundidade máxima (max_depth) é um hiperparâmetro que influencia o trade-off entre viés e variância no modelo. Ao reduzir esse hiperparâmetro, você está controlando a capacidade do modelo de se ajustar aos dados. Um valor muito baixo torna o modelo muito enviesado, enquanto um valor muito alto pode levar ao overfitting. Encontrar o valor ideal é parte do ajuste de hiperparâmetros.\n",
        "\n",
        "Em resumo, a diminuição de max_depth simplifica a árvore de decisão, limitando sua capacidade de modelar complexidades nos dados. Isso é frequentemente feito para controlar o overfitting, mas pode resultar em uma menor acurácia, especialmente quando os dados são intrinsecamente complexos e exigem uma representação mais detalhada. A seleção adequada da profundidade da árvore é crucial para equilibrar a capacidade de adaptação do modelo e evitar o overfitting."
      ],
      "metadata": {
        "id": "O1CekoLOJn08"
      }
    },
    {
      "cell_type": "markdown",
      "source": [
        "##Avaliando a acurácia no modelo Random Forest\n",
        "\n"
      ],
      "metadata": {
        "id": "L-ytwWVIC9yB"
      }
    },
    {
      "cell_type": "code",
      "source": [
        "from sklearn.ensemble import RandomForestClassifier\n",
        "from sklearn.metrics import precision_score\n",
        "from sklearn.model_selection import train_test_split\n",
        "from sklearn.metrics import accuracy_score, confusion_matrix, roc_curve, roc_auc_score\n",
        "import matplotlib.pyplot as plt\n",
        "\n",
        "\n",
        "#separa X e Y\n",
        "X = dataset.drop ('phishing', axis =1)\n",
        "y = dataset.phishing"
      ],
      "metadata": {
        "id": "B0MPU3BI-Ub5"
      },
      "execution_count": null,
      "outputs": []
    },
    {
      "cell_type": "code",
      "source": [
        "X_train, X_test, y_train, y_test = train_test_split(X, y, test_size=0.3, random_state=42)"
      ],
      "metadata": {
        "id": "2F5vY2hCKD3s"
      },
      "execution_count": null,
      "outputs": []
    },
    {
      "cell_type": "code",
      "source": [
        "# Criar o modelo Random Forest\n",
        "modelo_random_forest = RandomForestClassifier()\n",
        "\n",
        "# Treinar o modelo com os dados de treinamento\n",
        "modelo_random_forest.fit(X_train, y_train)\n",
        "\n",
        "# Fazer previsões com o modelo nos dados de teste\n",
        "previsoes = modelo_random_forest.predict(X_test)\n",
        "\n",
        "# Calcular a acurácia\n",
        "acuracia = accuracy_score(y_test, previsoes)\n",
        "\n",
        "# Calcular a precisão\n",
        "precisao = precision_score(y_test, previsoes)\n",
        "\n",
        "# Calcular a matriz de confusão\n",
        "matriz_confusao = confusion_matrix(y_test, previsoes)\n",
        "\n",
        "# Calcular a curva ROC e a área sob a curva (AUC)\n",
        "probabilidades = modelo_random_forest.predict_proba(X_test)[:, 1]\n",
        "fpr, tpr, thresholds = roc_curve(y_test, probabilidades)\n",
        "area_curva_roc = roc_auc_score(y_test, probabilidades)\n",
        "\n",
        "# Imprimir a acurácia\n",
        "print(f'Acurácia do modelo Random Forest: {acuracia}')\n",
        "\n",
        "# Imprimir a precisão\n",
        "print(f'Precisão do modelo Random Forest: {precisao}')\n",
        "\n",
        "# Imprimir a matriz de confusão\n",
        "print('Matriz de Confusão:')\n",
        "print(matriz_confusao)\n",
        "\n",
        "# Plotar a curva ROC\n",
        "plt.figure(figsize=(8, 6))\n",
        "plt.plot(fpr, tpr, label=f'Curva ROC (AUC = {area_curva_roc:.2f})')\n",
        "plt.plot([0, 1], [0, 1], 'k--')\n",
        "plt.xlim([0.0, 1.0])\n",
        "plt.ylim([0.0, 1.05])\n",
        "plt.xlabel('Taxa de Falso Positivo')\n",
        "plt.ylabel('Taxa de Verdadeiro Positivo')\n",
        "plt.title('Curva ROC')\n",
        "plt.legend(loc=\"lower right\")\n",
        "plt.show()"
      ],
      "metadata": {
        "colab": {
          "base_uri": "https://localhost:8080/",
          "height": 651
        },
        "id": "W0klHRWJA4AR",
        "outputId": "ec60265e-7da3-40ce-b8af-20c2ef789a71"
      },
      "execution_count": null,
      "outputs": [
        {
          "output_type": "stream",
          "name": "stdout",
          "text": [
            "Acurácia do modelo Random Forest: 0.9570876435148346\n",
            "Precisão do modelo Random Forest: 0.9543048503834936\n",
            "Matriz de Confusão:\n",
            "[[8005  423]\n",
            " [ 332 8834]]\n"
          ]
        },
        {
          "output_type": "display_data",
          "data": {
            "text/plain": [
              "<Figure size 800x600 with 1 Axes>"
            ],
            "image/png": "[encoded data removed]"
          },
          "metadata": {}
        }
      ]
    },
    {
      "cell_type": "markdown",
      "source": [
        "#Uma breve descrição dos resultados encontrados na Random Forest\n",
        "\n",
        "Acurácia e Precisão: A acurácia e a precisão do modelo Random Forest é de aproximadamente 0.9572 (ou 95%). A acurácia representa a proporção de previsões corretas em relação ao total de previsões, indicando o quão bem o modelo está se saindo na classificação.\n",
        "\n",
        "Matriz de Confusão: A matriz de confusão é uma tabela que mostra os resultados da classificação, Neste caso, econtramos os seguintes resultados :\n",
        "\n",
        "Verdadeiros Positivos (TP): 7987 - O número de instâncias da classe positiva corretamente classificadas como positivas.\n",
        "\n",
        "Falsos Negativos (FN): 441 - O número de instâncias da classe positiva que foram erroneamente classificadas como negativas.\n",
        "\n",
        "Falsos Positivos (FP): 335 - O número de instâncias da classe negativa que foram erroneamente classificadas como positivas.\n",
        "\n",
        "Verdadeiros Negativos (TN): 8831 - O número de instâncias da classe negativa corretamente classificadas como negativas.\n",
        "\n",
        "Com base nos dados fornecidos foi verificado\n",
        "\n",
        "A acurácia e precisão do modelo Random Forest é de aproximadamente 95.72%.\n",
        "\n",
        "\n",
        "Conclusão:\n",
        "\n",
        "O modelo de Random Forest obteve um desempenho geral muito bom com uma acurácia de 95.72%. A matriz de confusão confirma isso, mostrando um alto número de verdadeiros positivos e verdadeiros negativos em comparação com um número relativamente baixo de falsos positivos e falsos negativos. Isso indica que o modelo é capaz de fazer previsões precisas e discriminatórias para as classes em questão.\n",
        "\n",
        "Em resumo, com base na acurácia e na matriz de confusão, o treinamento do modelo Random Forest parece ter sido eficaz na classificação das instâncias neste dataset, quando comparado ao Decision Tree que por sua vez obteve em torno de 93% de acurácia e precisão tendo reduzido para 88% quando após serem podadas. No entanto, a interpretação completa do resultado também depende do contexto do problema e das implicações práticas das previsões porém são modelos que se mostram promissores em classificações é podem de alguma forma ajudar no desenvolvimento de tecnologias usando ML e IA associadas a cyber segurança.\n",
        "\n",
        "\n",
        "\n",
        "\n"
      ],
      "metadata": {
        "id": "ZQtzaqsDFZ5l"
      }
    }
  ]
}